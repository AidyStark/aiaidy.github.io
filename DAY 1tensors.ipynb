{
 "cells": [
  {
   "cell_type": "code",
   "execution_count": 81,
   "source": [
    "import torch\r\n",
    "import numpy as np"
   ],
   "outputs": [],
   "metadata": {}
  },
  {
   "cell_type": "code",
   "execution_count": 2,
   "source": [
    "torch.cuda.is_available()"
   ],
   "outputs": [
    {
     "output_type": "execute_result",
     "data": {
      "text/plain": [
       "False"
      ]
     },
     "metadata": {},
     "execution_count": 2
    }
   ],
   "metadata": {}
  },
  {
   "cell_type": "code",
   "execution_count": 3,
   "source": [
    "# CREATING AN EMPTY TENSOR OF 0NE DIMENSIONAL VECTOR WITH 3 ELEMENTS\r\n",
    "x = torch.empty(3)\r\n",
    "x "
   ],
   "outputs": [
    {
     "output_type": "execute_result",
     "data": {
      "text/plain": [
       "tensor([0., 0., 0.])"
      ]
     },
     "metadata": {},
     "execution_count": 3
    }
   ],
   "metadata": {}
  },
  {
   "cell_type": "code",
   "execution_count": 8,
   "source": [
    "# CREATING ANOTHER EMPTY TENSOR: 2D MATRIX\r\n",
    "x = torch.empty(2,3) # CAN ADD MORE DIMENSION TO IT LIKE torch.empty(2,2,2,3)\r\n",
    "u = torch.empty(2,2,2,3)\r\n",
    "u "
   ],
   "outputs": [
    {
     "output_type": "execute_result",
     "data": {
      "text/plain": [
       "tensor([[[[4.2731e-05, 4.0975e-11, 6.7884e-07],\n",
       "          [2.9574e-18, 6.7333e+22, 1.7591e+22]],\n",
       "\n",
       "         [[1.7184e+25, 4.3222e+27, 6.1972e-04],\n",
       "          [7.2443e+22, 1.7728e+28, 7.0367e+22]]],\n",
       "\n",
       "\n",
       "        [[[1.8704e+20, 1.0682e-05, 1.2800e-11],\n",
       "          [2.6405e-06, 6.5558e-10, 5.4655e+22]],\n",
       "\n",
       "         [[2.0470e+23, 4.2963e-05, 3.3240e+21],\n",
       "          [3.0926e-18, 7.7052e+31, 1.9447e+31]]]])"
      ]
     },
     "metadata": {},
     "execution_count": 8
    }
   ],
   "metadata": {}
  },
  {
   "cell_type": "code",
   "execution_count": 17,
   "source": [
    "# CREATING TENSORS WITH RANDOM VALUES WITH DIFFRENT STRATEGY\r\n",
    "\r\n",
    "c = torch.rand(\r\n",
    "    2,2\r\n",
    ")\r\n",
    "print(c)\r\n",
    "x = torch.ones(\r\n",
    "    2,2\r\n",
    ")\r\n",
    "print(x)\r\n",
    "\r\n",
    "# OR\r\n",
    "a = torch.zeros(\r\n",
    "    3,4,5\r\n",
    ")\r\n",
    "a"
   ],
   "outputs": [
    {
     "output_type": "stream",
     "name": "stdout",
     "text": [
      "tensor([[0.6018, 0.6360],\n",
      "        [0.3939, 0.1873]])\n",
      "tensor([[1., 1.],\n",
      "        [1., 1.]])\n"
     ]
    },
    {
     "output_type": "execute_result",
     "data": {
      "text/plain": [
       "tensor([[[0., 0., 0., 0., 0.],\n",
       "         [0., 0., 0., 0., 0.],\n",
       "         [0., 0., 0., 0., 0.],\n",
       "         [0., 0., 0., 0., 0.]],\n",
       "\n",
       "        [[0., 0., 0., 0., 0.],\n",
       "         [0., 0., 0., 0., 0.],\n",
       "         [0., 0., 0., 0., 0.],\n",
       "         [0., 0., 0., 0., 0.]],\n",
       "\n",
       "        [[0., 0., 0., 0., 0.],\n",
       "         [0., 0., 0., 0., 0.],\n",
       "         [0., 0., 0., 0., 0.],\n",
       "         [0., 0., 0., 0., 0.]]])"
      ]
     },
     "metadata": {},
     "execution_count": 17
    }
   ],
   "metadata": {}
  },
  {
   "cell_type": "code",
   "execution_count": 31,
   "source": [
    "# DATATYPES \r\n",
    "# changing DATA-TYPES\r\n",
    "\r\n",
    "z = torch.ones( [2,1,3  ],dtype=torch.int #float16,#double)\r\n",
    "print(z.dtype)\r\n"
   ],
   "outputs": [
    {
     "output_type": "error",
     "ename": "SyntaxError",
     "evalue": "invalid syntax (<ipython-input-31-5e9077a5475b>, line 5)",
     "traceback": [
      "\u001b[1;36m  File \u001b[1;32m\"<ipython-input-31-5e9077a5475b>\"\u001b[1;36m, line \u001b[1;32m5\u001b[0m\n\u001b[1;33m    print(z.dtype)\u001b[0m\n\u001b[1;37m        ^\u001b[0m\n\u001b[1;31mSyntaxError\u001b[0m\u001b[1;31m:\u001b[0m invalid syntax\n"
     ]
    }
   ],
   "metadata": {}
  },
  {
   "cell_type": "code",
   "execution_count": 27,
   "source": [
    "# CHECKING FOR THE SIZE\r\n",
    "\r\n",
    "e = torch.zeros(3,2)\r\n",
    "e.size()"
   ],
   "outputs": [
    {
     "output_type": "execute_result",
     "data": {
      "text/plain": [
       "torch.Size([3, 2])"
      ]
     },
     "metadata": {},
     "execution_count": 27
    }
   ],
   "metadata": {}
  },
  {
   "cell_type": "markdown",
   "source": [
    "# BASIC OPERATIONS TO PERFORM WITH TENSORS"
   ],
   "metadata": {}
  },
  {
   "cell_type": "code",
   "execution_count": 46,
   "source": [
    "ab = torch.rand(2,6)\r\n",
    "bc = torch.rand(2,6)"
   ],
   "outputs": [],
   "metadata": {}
  },
  {
   "cell_type": "markdown",
   "source": [
    "### ADDITION"
   ],
   "metadata": {}
  },
  {
   "cell_type": "code",
   "execution_count": 49,
   "source": [
    "# ELEMENT WISE ADDITION\r\n",
    "t = torch.add(ab,bc)\r\n",
    "print(t)\r\n",
    "\r\n",
    "# INPLACE ADDITON\r\n",
    "w = bc.add_(ab)\r\n",
    "print(w)"
   ],
   "outputs": [
    {
     "output_type": "stream",
     "name": "stdout",
     "text": [
      "tensor([[1.9656, 0.4197, 1.1460, 0.3398, 0.7175, 0.1748],\n",
      "        [2.5255, 0.9188, 2.3894, 2.0916, 0.9397, 0.7639]])\n",
      "tensor([[1.9656, 0.4197, 1.1460, 0.3398, 0.7175, 0.1748],\n",
      "        [2.5255, 0.9188, 2.3894, 2.0916, 0.9397, 0.7639]])\n"
     ]
    }
   ],
   "metadata": {}
  },
  {
   "cell_type": "markdown",
   "source": [
    "### SUBTRACTION"
   ],
   "metadata": {}
  },
  {
   "cell_type": "code",
   "execution_count": 52,
   "source": [
    "# ELEMENT WISE SUBTRACTION\r\n",
    "\r\n",
    "a = torch.sub(ab,bc)\r\n",
    "print(a)\r\n",
    "\r\n",
    "#INPLACE SUBTRACTION\r\n",
    "b= ab.sub_(bc)\r\n",
    "print(b)"
   ],
   "outputs": [
    {
     "output_type": "stream",
     "name": "stdout",
     "text": [
      "tensor([[-0.0509, -0.3715, -0.0702, -0.0310, -0.7128, -0.1005],\n",
      "        [-0.7624, -0.0146, -0.7175, -0.3619, -0.6326, -0.0842]])\n",
      "tensor([[-0.0509, -0.3715, -0.0702, -0.0310, -0.7128, -0.1005],\n",
      "        [-0.7624, -0.0146, -0.7175, -0.3619, -0.6326, -0.0842]])\n"
     ]
    }
   ],
   "metadata": {}
  },
  {
   "cell_type": "markdown",
   "source": [
    "### MULTIPLICATION"
   ],
   "metadata": {}
  },
  {
   "cell_type": "code",
   "execution_count": 53,
   "source": [
    "# ELEMENT WISE MULTIPLICATION\r\n",
    "z = torch.mul(ab,bc)\r\n",
    "print(z)\r\n",
    "\r\n",
    "# INPLACE MULTIPLICATION\r\n",
    "xd = ab.mul_(bc)\r\n",
    "print(xd)"
   ],
   "outputs": [
    {
     "output_type": "stream",
     "name": "stdout",
     "text": [
      "tensor([[-0.0513, -0.1470, -0.0427, -0.0057, -0.5098, -0.0138],\n",
      "        [-1.2533, -0.0068, -1.1146, -0.4440, -0.4973, -0.0357]])\n",
      "tensor([[-0.0513, -0.1470, -0.0427, -0.0057, -0.5098, -0.0138],\n",
      "        [-1.2533, -0.0068, -1.1146, -0.4440, -0.4973, -0.0357]])\n"
     ]
    }
   ],
   "metadata": {}
  },
  {
   "cell_type": "markdown",
   "source": [
    "### PERFORMRING SLICING OPERATIONS"
   ],
   "metadata": {}
  },
  {
   "cell_type": "code",
   "execution_count": 73,
   "source": [
    "xw = torch.rand(6,4)\r\n",
    "\r\n",
    "# (xw[#ROWS:,#COLUMNS])\r\n",
    "print(xw)\r\n",
    "print(xw[1:,3]) #SECOND ROW AND A PARTICULAR COLUMN\r\n",
    "print(xw[:,3]) # ALL THE ROWS AND PARTICULAR COLUMN \r\n",
    "print(xw[3,3]) #GET AN ELEMENT AT PARTICULAR POSITION\r\n"
   ],
   "outputs": [
    {
     "output_type": "stream",
     "name": "stdout",
     "text": [
      "tensor([[0.5564, 0.2125, 0.6860, 0.3432],\n",
      "        [0.4508, 0.7576, 0.2307, 0.0368],\n",
      "        [0.2226, 0.1221, 0.7311, 0.8257],\n",
      "        [0.8352, 0.1409, 0.2568, 0.5712],\n",
      "        [0.1509, 0.0158, 0.3721, 0.5243],\n",
      "        [0.3183, 0.4868, 0.0812, 0.2443]])\n",
      "tensor([0.0368, 0.8257, 0.5712, 0.5243, 0.2443])\n",
      "tensor([0.3432, 0.0368, 0.8257, 0.5712, 0.5243, 0.2443])\n",
      "tensor(0.5712)\n"
     ]
    }
   ],
   "metadata": {}
  },
  {
   "cell_type": "code",
   "execution_count": 56,
   "source": [
    "xw"
   ],
   "outputs": [
    {
     "output_type": "execute_result",
     "data": {
      "text/plain": [
       "tensor([[0.4836, 0.5522],\n",
       "        [0.6966, 0.9375],\n",
       "        [0.8546, 0.9300],\n",
       "        [0.9458, 0.7859],\n",
       "        [0.0697, 0.9344],\n",
       "        [0.5406, 0.4580]])"
      ]
     },
     "metadata": {},
     "execution_count": 56
    }
   ],
   "metadata": {}
  },
  {
   "cell_type": "markdown",
   "source": [
    "### RESHAPING | RESIZING A TENSOR"
   ],
   "metadata": {}
  },
  {
   "cell_type": "code",
   "execution_count": 74,
   "source": [
    "cv = torch.rand(4,3)"
   ],
   "outputs": [
    {
     "output_type": "execute_result",
     "data": {
      "text/plain": [
       "tensor([[0.5037, 0.1987, 0.2121],\n",
       "        [0.9223, 0.8873, 0.0149],\n",
       "        [0.6654, 0.4592, 0.8790],\n",
       "        [0.5622, 0.9850, 0.1652]])"
      ]
     },
     "metadata": {},
     "execution_count": 74
    }
   ],
   "metadata": {}
  },
  {
   "cell_type": "code",
   "execution_count": 80,
   "source": [
    "# reshaping with the VIEW() METHOD\r\n",
    "zz = cv.view(12)\r\n",
    "\r\n",
    "print(zz.size())\r\n",
    "print(zz)\r\n",
    "\r\n",
    "# OR\r\n",
    "\r\n",
    "ts = cv.view(-1, 4)\r\n",
    "print(ts.size())\r\n",
    "print(ts)"
   ],
   "outputs": [
    {
     "output_type": "stream",
     "name": "stdout",
     "text": [
      "torch.Size([12])\n",
      "tensor([0.5037, 0.1987, 0.2121, 0.9223, 0.8873, 0.0149, 0.6654, 0.4592, 0.8790,\n",
      "        0.5622, 0.9850, 0.1652])\n",
      "torch.Size([3, 4])\n",
      "tensor([[0.5037, 0.1987, 0.2121, 0.9223],\n",
      "        [0.8873, 0.0149, 0.6654, 0.4592],\n",
      "        [0.8790, 0.5622, 0.9850, 0.1652]])\n"
     ]
    }
   ],
   "metadata": {}
  },
  {
   "cell_type": "markdown",
   "source": [
    "### CONVERTING "
   ],
   "metadata": {}
  },
  {
   "cell_type": "code",
   "execution_count": 88,
   "source": [
    "# CONVERTING FROM TENSOR TO NUMPY\r\n",
    "\r\n",
    "b = torch.ones(7)\r\n",
    "print(b,type(b))\r\n",
    "\r\n",
    "ds = b.numpy()\r\n",
    "print(ds,type(ds))"
   ],
   "outputs": [
    {
     "output_type": "stream",
     "name": "stdout",
     "text": [
      "tensor([1., 1., 1., 1., 1., 1., 1.]) <class 'torch.Tensor'>\n",
      "[1. 1. 1. 1. 1. 1. 1.] <class 'numpy.ndarray'>\n"
     ]
    }
   ],
   "metadata": {}
  },
  {
   "cell_type": "code",
   "execution_count": 93,
   "source": [
    "# CONVERTING FROM NUMPY TO TENSOR\r\n",
    "v = np.ones(5)\r\n",
    "print(v,type(v))\r\n",
    "ed = torch.from_numpy(v)\r\n",
    "print(ed)"
   ],
   "outputs": [
    {
     "output_type": "stream",
     "name": "stdout",
     "text": [
      "[1. 1. 1. 1. 1.] <class 'numpy.ndarray'>\n",
      "tensor([1., 1., 1., 1., 1.], dtype=torch.float64)\n"
     ]
    }
   ],
   "metadata": {}
  },
  {
   "cell_type": "code",
   "execution_count": 94,
   "source": [
    "v"
   ],
   "outputs": [
    {
     "output_type": "execute_result",
     "data": {
      "text/plain": [
       "array([1., 1., 1., 1., 1.])"
      ]
     },
     "metadata": {},
     "execution_count": 94
    }
   ],
   "metadata": {}
  },
  {
   "cell_type": "markdown",
   "source": [
    "### WORKING WITH DEVICES: CUDA & CPU\r\n",
    "\r\n"
   ],
   "metadata": {}
  },
  {
   "cell_type": "code",
   "execution_count": 97,
   "source": [
    "if torch.cuda.is_available():\r\n",
    "    device=torch.device('cuda')\r\n",
    "    x = torch.ones(5)\r\n",
    "    y = torch.ones(5)\r\n",
    "    z = x + y.to(device)\r\n",
    "    zs = x + y\r\n",
    "    zs = zs.to('cpu') "
   ],
   "outputs": [],
   "metadata": {}
  },
  {
   "cell_type": "code",
   "execution_count": 98,
   "source": [
    "# REQUIRES GRAD NEEDED WHEN OPTIMIZATION IS TO BE DONE ON A AVRIABLE\r\n",
    "\r\n",
    "x = torch.zeros(4, requires_grad=True)\r\n",
    "\r\n",
    "x"
   ],
   "outputs": [
    {
     "output_type": "execute_result",
     "data": {
      "text/plain": [
       "tensor([0., 0., 0., 0.], requires_grad=True)"
      ]
     },
     "metadata": {},
     "execution_count": 98
    }
   ],
   "metadata": {}
  },
  {
   "cell_type": "markdown",
   "source": [
    "# AUTOGRAD: GRADIENT COMPUTATION"
   ],
   "metadata": {}
  },
  {
   "cell_type": "code",
   "execution_count": null,
   "source": [],
   "outputs": [],
   "metadata": {}
  }
 ],
 "metadata": {
  "kernelspec": {
   "name": "python3",
   "display_name": "Python 3.6.10 64-bit ('AIDY.ai': conda)"
  },
  "language_info": {
   "codemirror_mode": {
    "name": "ipython",
    "version": 3
   },
   "file_extension": ".py",
   "mimetype": "text/x-python",
   "name": "python",
   "nbconvert_exporter": "python",
   "pygments_lexer": "ipython3",
   "version": "3.6.10"
  },
  "interpreter": {
   "hash": "c347d5b110094c3c84b38995bb070df963df71643c99aeb6475918bc71b4c228"
  }
 },
 "nbformat": 4,
 "nbformat_minor": 4
}